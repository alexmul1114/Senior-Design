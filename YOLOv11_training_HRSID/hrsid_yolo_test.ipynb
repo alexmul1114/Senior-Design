{
 "cells": [
  {
   "cell_type": "markdown",
   "metadata": {},
   "source": [
    "## Notebook to look at some test predictions from trained YOLO model"
   ]
  },
  {
   "cell_type": "code",
   "execution_count": 2,
   "metadata": {},
   "outputs": [],
   "source": [
    "import os\n",
    "import matplotlib.pyplot as plt\n",
    "import matplotlib.patches as patches\n",
    "from PIL import Image\n",
    "\n",
    "from ultralytics import YOLO"
   ]
  },
  {
   "cell_type": "code",
   "execution_count": 4,
   "metadata": {},
   "outputs": [],
   "source": [
    "# Load test image and label\n",
    "dataset_path = os.path.join(r\"C:\\Users\", \"alexm\", \"Senior-Design\", \"datasets\", \"HRSID\", \"yolo\")\n",
    "test_patch_img_path = os.path.join(dataset_path, \"test\", \"images\", \"P0008_600_1400_8400_9200_7_7319.png\") # 2 ships\n",
    "test_patch_label_path = os.path.join(dataset_path, \"test\", \"labels\", \"P0008_600_1400_8400_9200_7_7319.txt\")"
   ]
  },
  {
   "cell_type": "code",
   "execution_count": 5,
   "metadata": {},
   "outputs": [],
   "source": [
    "# Load model\n",
    "model_path = os.path.join(r\"C:\\Users\", \"alexm\", \"Senior-Design\", \"runs\", \"detect\", \"train3\", \"weights\", \"best.pt\")\n",
    "model = YOLO(model_path)"
   ]
  },
  {
   "cell_type": "code",
   "execution_count": 10,
   "metadata": {},
   "outputs": [
    {
     "name": "stdout",
     "output_type": "stream",
     "text": [
      "\n",
      "0: 224x224 2 ships, 50.7ms\n",
      "Speed: 0.0ms preprocess, 50.7ms inference, 2.0ms postprocess per image at shape (1, 3, 224, 224)\n"
     ]
    }
   ],
   "source": [
    "# Run inference on images\n",
    "results = model([test_patch_img_path])"
   ]
  },
  {
   "cell_type": "code",
   "execution_count": 17,
   "metadata": {},
   "outputs": [],
   "source": [
    "results[0].show()\n",
    "# Can save results to an image with results[0].save(filename='test.jpg')"
   ]
  }
 ],
 "metadata": {
  "kernelspec": {
   "display_name": "Python 3 (ipykernel)",
   "language": "python",
   "name": "python3"
  },
  "language_info": {
   "codemirror_mode": {
    "name": "ipython",
    "version": 3
   },
   "file_extension": ".py",
   "mimetype": "text/x-python",
   "name": "python",
   "nbconvert_exporter": "python",
   "pygments_lexer": "ipython3",
   "version": "3.12.5"
  }
 },
 "nbformat": 4,
 "nbformat_minor": 4
}
